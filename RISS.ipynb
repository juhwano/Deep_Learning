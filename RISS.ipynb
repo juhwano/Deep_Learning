{
 "cells": [
  {
   "cell_type": "markdown",
   "id": "5d461c5f-b894-4352-bcac-330d3a7f56c4",
   "metadata": {},
   "source": [
    "# RISS 해외 논문 데이터 전처리"
   ]
  },
  {
   "cell_type": "markdown",
   "id": "07cb297c-356f-416e-8c6f-869ead02c6ff",
   "metadata": {},
   "source": [
    "# 순서 정리\n",
    "\n",
    "1. riss 100*10 files download<br/>\n",
    "2. read excel file -> list[df, df, df, ...]<br/>\n",
    "3. df_all <- list[df, df, df] concat<br/>\n",
    "4. extract title column!<br/>\n",
    "5. preprocessing all_title => to words list<br/>\n",
    "    a. english start words -> to list<br/>\n",
    "    b. word_tokenize(lower())<br/>\n",
    "    c. stopwords processing<br/>\n",
    "    d. lemmatize process<br/>\n",
    "6. reduce(2nd list -> 1st list)<br/>\n",
    "7. Counter<br/>\n",
    "8. dict() <- most_common(20)<br/>\n",
    "9. dict() <- (len(word) > 1) filtering<br/>\n",
    "10. bar plot()"
   ]
  },
  {
   "cell_type": "code",
   "execution_count": 3,
   "id": "941bfea5-1fb8-4b01-943c-e3f88b6cc30b",
   "metadata": {},
   "outputs": [],
   "source": [
    "import pandas as pd\n",
    "import glob\n",
    "import re\n",
    "import nltk\n",
    "from functools import reduce\n",
    "\n",
    "from nltk.tokenize import word_tokenize\n",
    "from nltk.corpus import stopwords\n",
    "from nltk.stem import WordNetLemmatizer\n",
    "\n",
    "from collections import Counter\n",
    "\n",
    "import matplotlib.pyplot as plt\n",
    "from wordcloud import WordCloud, STOPWORDS"
   ]
  },
  {
   "cell_type": "markdown",
   "id": "c4da3ed2-0c8b-41d5-9634-593c1dd193e5",
   "metadata": {},
   "source": [
    "# 파일 병합"
   ]
  },
  {
   "cell_type": "code",
   "execution_count": 4,
   "id": "99e23fe5-b9ec-4dee-9a24-df9e7e48eb5d",
   "metadata": {},
   "outputs": [
    {
     "data": {
      "text/plain": [
       "['./job_influence_data\\\\myCabinetExcelData (1).xls',\n",
       " './job_influence_data\\\\myCabinetExcelData (2).xls',\n",
       " './job_influence_data\\\\myCabinetExcelData (3).xls',\n",
       " './job_influence_data\\\\myCabinetExcelData (4).xls',\n",
       " './job_influence_data\\\\myCabinetExcelData (5).xls',\n",
       " './job_influence_data\\\\myCabinetExcelData (6).xls',\n",
       " './job_influence_data\\\\myCabinetExcelData (7).xls',\n",
       " './job_influence_data\\\\myCabinetExcelData.xls']"
      ]
     },
     "execution_count": 4,
     "metadata": {},
     "output_type": "execute_result"
    }
   ],
   "source": [
    "all_files = glob.glob('./job_influence_data/my*.xls')\n",
    "all_files"
   ]
  },
  {
   "cell_type": "code",
   "execution_count": 6,
   "id": "dacb6351-d2d9-4d20-990e-7080c36818dc",
   "metadata": {},
   "outputs": [],
   "source": [
    "# 저장할 리스트\n",
    "all_files_data = []\n",
    "\n",
    "for file in all_files:\n",
    "    data_frame = pd.read_excel(file)\n",
    "    all_files_data.append(data_frame)\n",
    "    \n",
    "# all_files_data[0]"
   ]
  },
  {
   "cell_type": "code",
   "execution_count": 8,
   "id": "d5aa1fe1-27a0-4aa4-a396-d3ca11d5ff2a",
   "metadata": {},
   "outputs": [],
   "source": [
    "all_files_data_concat = pd.concat(all_files_data, axis=0, ignore_index=True)\n",
    "\n",
    "# all_files_data_concat"
   ]
  },
  {
   "cell_type": "code",
   "execution_count": 9,
   "id": "f364a74d-e114-4b64-b0b5-4e7ca5f26ca6",
   "metadata": {},
   "outputs": [],
   "source": [
    "all_files_data_concat.to_csv('./job_influence_data/riss_bigdata.csv', encoding='utf-8', index=False)"
   ]
  },
  {
   "cell_type": "markdown",
   "id": "e824fdbd-1190-4e39-aaee-64dbe9996499",
   "metadata": {},
   "source": [
    "# 데이터 전처리 (Pre-processing)"
   ]
  },
  {
   "cell_type": "code",
   "execution_count": 12,
   "id": "9469b581-2b3b-4922-a190-2571536b0602",
   "metadata": {},
   "outputs": [
    {
     "data": {
      "text/plain": [
       "0      Does working with the Veder Contact Method inf...\n",
       "1      Technological disruption and employment: The i...\n",
       "2      Affective well-being and within-day beliefs ab...\n",
       "3      Commitment to Social Justice and its Influence...\n",
       "4      Salesperson Perceptions of Ethical Behaviors: ...\n",
       "                             ...                        \n",
       "763    Organizational Climate Perception and its Infl...\n",
       "764    Does work engagement mediate the influence of ...\n",
       "765    HOW SOCIAL DOMINANCE ORIENTATION AND JOB STATU...\n",
       "766    Understanding teleworkers’ technostress and it...\n",
       "767    Work during COVID-19: assessing the influence ...\n",
       "Name: 제목, Length: 768, dtype: object"
      ]
     },
     "execution_count": 12,
     "metadata": {},
     "output_type": "execute_result"
    }
   ],
   "source": [
    "# 제목 추출\n",
    "all_title = all_files_data_concat['제목']\n",
    "\n",
    "all_title"
   ]
  },
  {
   "cell_type": "markdown",
   "id": "978330e3-a335-4676-a561-11c5f4a02c41",
   "metadata": {},
   "source": [
    "- iterator data(반복자) - list, Series, tuple"
   ]
  },
  {
   "cell_type": "code",
   "execution_count": 14,
   "id": "65e14e74-d6ed-4718-8c55-016c41b4d0c6",
   "metadata": {},
   "outputs": [],
   "source": [
    "stopwords = set(stopwords.words('english'))\n",
    "lemma = WordNetLemmatizer()"
   ]
  },
  {
   "cell_type": "code",
   "execution_count": 16,
   "id": "dbc6d7f9-ade4-4682-9684-fd8ca89d71db",
   "metadata": {},
   "outputs": [],
   "source": [
    "words = []\n",
    "\n",
    "for title in all_title:\n",
    "    # print(title)\n",
    "    EnWords = re.sub(r\"[^a-zA-Z]+\", \" \", str(title))   \n",
    "    # print(EnWords)\n",
    "    EnWordsToken = word_tokenize(EnWords.lower())\n",
    "    # print(EnWordsToken),  #익명함수, 클로저 \n",
    "    EnWordsTokenStop = [w for w in EnWordsToken if w not in stopwords]\n",
    "    # print(EnWordsTokenStop)\n",
    "    EnWordsTokenStopLemma = [lemma.lemmatize(w) for w in EnWordsTokenStop]\n",
    "    # print(EnWordsTokenStopLemma)\n",
    "    words.append(EnWordsTokenStopLemma)"
   ]
  },
  {
   "cell_type": "code",
   "execution_count": 17,
   "id": "cf246ee8-b14d-492a-af58-230f89fd159d",
   "metadata": {},
   "outputs": [
    {
     "name": "stdout",
     "output_type": "stream",
     "text": [
      "<class 'list'>\n"
     ]
    },
    {
     "data": {
      "text/plain": [
       "['working',\n",
       " 'veder',\n",
       " 'contact',\n",
       " 'method',\n",
       " 'influence',\n",
       " 'job',\n",
       " 'satisfaction',\n",
       " 'caregiver',\n",
       " 'non',\n",
       " 'randomized']"
      ]
     },
     "execution_count": 17,
     "metadata": {},
     "output_type": "execute_result"
    }
   ],
   "source": [
    "words2 = reduce(lambda x, y: x + y, words)\n",
    "print(type(words2))\n",
    "words2[:10]"
   ]
  },
  {
   "cell_type": "markdown",
   "id": "fc0e5521-f1ac-4801-9cab-8cadab86bbcf",
   "metadata": {},
   "source": [
    "# 데이터 탐색\n",
    "## 단어 빈도 탐색"
   ]
  },
  {
   "cell_type": "code",
   "execution_count": 19,
   "id": "2eca7c72-4319-4dfc-8354-098e86acb677",
   "metadata": {},
   "outputs": [],
   "source": [
    "count = Counter(words2)\n",
    "# count"
   ]
  },
  {
   "cell_type": "code",
   "execution_count": 20,
   "id": "228f43d9-ea65-4ba8-9f14-eb658136f1d8",
   "metadata": {},
   "outputs": [
    {
     "name": "stdout",
     "output_type": "stream",
     "text": [
      "job : 822\n",
      "influence : 667\n",
      "satisfaction : 294\n",
      "factor : 119\n",
      "performance : 101\n",
      "work : 100\n",
      "influencing : 94\n",
      "employee : 92\n",
      "nurse : 65\n",
      "organizational : 64\n",
      "study : 63\n",
      "commitment : 62\n",
      "among : 56\n",
      "stress : 56\n",
      "role : 48\n",
      "characteristic : 46\n",
      "worker : 45\n",
      "intention : 44\n",
      "perception : 40\n",
      "turnover : 37\n",
      "behavior : 37\n",
      "self : 36\n",
      "leadership : 36\n",
      "social : 35\n",
      "health : 34\n",
      "burnout : 33\n",
      "teacher : 32\n",
      "attitude : 31\n",
      "perceived : 30\n",
      "effect : 30\n",
      "manager : 28\n",
      "relationship : 28\n",
      "engagement : 27\n",
      "support : 27\n",
      "related : 27\n",
      "outcome : 26\n",
      "resource : 25\n",
      "care : 24\n",
      "individual : 23\n",
      "family : 22\n",
      "organisational : 21\n",
      "career : 20\n",
      "practice : 20\n",
      "level : 20\n",
      "service : 19\n",
      "analysis : 19\n",
      "efficacy : 19\n",
      "personality : 19\n",
      "demand : 18\n",
      "mediating : 18\n"
     ]
    }
   ],
   "source": [
    "word_count = dict()\n",
    "\n",
    "for tag, counts in count.most_common(50):\n",
    "    if(len(str(tag)) > 1):\n",
    "        word_count[tag] = counts\n",
    "        print(f'{tag} : {counts}')"
   ]
  },
  {
   "cell_type": "markdown",
   "id": "1afaafde-4985-4846-8290-e716fe51d72f",
   "metadata": {},
   "source": [
    "- 검색어로 사용한 job과 influence 빈도가 압도적으로 많으므로, 이를 제거한다."
   ]
  },
  {
   "cell_type": "code",
   "execution_count": 21,
   "id": "eb55f0b0-0198-4521-af7e-d4489a0ab6e9",
   "metadata": {},
   "outputs": [],
   "source": [
    "del word_count['job']\n",
    "del word_count['influence']"
   ]
  },
  {
   "cell_type": "code",
   "execution_count": 22,
   "id": "db5e95c1-1124-47ba-b2c9-1728746e8a17",
   "metadata": {},
   "outputs": [
    {
     "data": {
      "text/plain": [
       "['satisfaction',\n",
       " 'factor',\n",
       " 'performance',\n",
       " 'work',\n",
       " 'influencing',\n",
       " 'employee',\n",
       " 'nurse',\n",
       " 'organizational',\n",
       " 'study',\n",
       " 'commitment']"
      ]
     },
     "execution_count": 22,
     "metadata": {},
     "output_type": "execute_result"
    }
   ],
   "source": [
    "key_list = list(word_count.keys())\n",
    "key_list[:10]"
   ]
  },
  {
   "cell_type": "markdown",
   "id": "ec328da3-5ef3-46b1-ac85-a4bfe182ab00",
   "metadata": {},
   "source": [
    "# 단어 빈도 히스토그램"
   ]
  },
  {
   "cell_type": "code",
   "execution_count": 24,
   "id": "98dc68ab-34a8-457d-a3fd-d57606829bab",
   "metadata": {},
   "outputs": [
    {
     "data": {
      "image/png": "[encoded data removed]",
      "text/plain": [
       "<Figure size 864x360 with 1 Axes>"
      ]
     },
     "metadata": {
      "needs_background": "light"
     },
     "output_type": "display_data"
    }
   ],
   "source": [
    "# 히스토그램 표시 옵션\n",
    "plt.figure(figsize=(12,5))\n",
    "plt.xlabel('word')\n",
    "plt.ylabel('count')\n",
    "plt.grid(True)\n",
    "\n",
    "plt.bar(range(len(word_count)), word_count.values())\n",
    "plt.xticks(range(len(word_count)), word_count.keys(), rotation='85')\n",
    "plt.show()"
   ]
  }
 ],
 "metadata": {
  "kernelspec": {
   "display_name": "Python 3 (ipykernel)",
   "language": "python",
   "name": "python3"
  },
  "language_info": {
   "codemirror_mode": {
    "name": "ipython",
    "version": 3
   },
   "file_extension": ".py",
   "mimetype": "text/x-python",
   "name": "python",
   "nbconvert_exporter": "python",
   "pygments_lexer": "ipython3",
   "version": "3.9.7"
  }
 },
 "nbformat": 4,
 "nbformat_minor": 5
}
