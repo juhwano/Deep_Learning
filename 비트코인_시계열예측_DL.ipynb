{
  "nbformat": 4,
  "nbformat_minor": 0,
  "metadata": {
    "colab": {
      "name": "비트코인_시계열예측_DL.ipynb",
      "provenance": [],
      "collapsed_sections": [],
      "toc_visible": true,
      "authorship_tag": "ABX9TyOzwUXx5UgrsVexMwFVDW/O"
    },
    "kernelspec": {
      "name": "python3",
      "display_name": "Python 3"
    },
    "language_info": {
      "name": "python"
    }
  },
  "cells": [
    {
      "cell_type": "markdown",
      "source": [
        "# 프로젝트 개요\n",
        "\n",
        "kaggle의 bitstamp 데이터를 활용해 3가지 분석을 진행\n",
        "\n",
        "1. 시계열 데이터 분석\n",
        "2. 데이터 불균형 -> scaling\n",
        "3. 이전의 같은 데이터로 학습시킨 Machine Learning 모델과 성능 비교 \n",
        "> https://github.com/juhwano/Machine_Learning/blob/main/time_series/%EB%B9%84%ED%8A%B8%EC%BD%94%EC%9D%B8_%EC%8B%9C%EA%B3%84%EC%97%B4_%EC%98%88%EC%B8%A12.ipynb"
      ],
      "metadata": {
        "id": "0E4aZGGzkIui"
      }
    },
    {
      "cell_type": "code",
      "source": [
        "from google.colab import drive\n",
        "drive.mount('/content/gdrive/')"
      ],
      "metadata": {
        "colab": {
          "base_uri": "https://localhost:8080/"
        },
        "id": "BonicYovkMe0",
        "outputId": "daffa1ce-1fb6-46fc-bde7-6bcf4605752c"
      },
      "execution_count": null,
      "outputs": [
        {
          "output_type": "stream",
          "name": "stdout",
          "text": [
            "Drive already mounted at /content/gdrive/; to attempt to forcibly remount, call drive.mount(\"/content/gdrive/\", force_remount=True).\n"
          ]
        }
      ]
    },
    {
      "cell_type": "markdown",
      "source": [
        "# Library & Data Import"
      ],
      "metadata": {
        "id": "mX8cEG0UkXnJ"
      }
    },
    {
      "cell_type": "code",
      "execution_count": null,
      "metadata": {
        "id": "1FI9ia_jj7T2"
      },
      "outputs": [],
      "source": [
        "import pandas as pd\n",
        "import numpy as np\n",
        "import os\n",
        "import random\n",
        "import warnings\n",
        "warnings.filterwarnings('ignore')"
      ]
    },
    {
      "cell_type": "code",
      "source": [
        "import tensorflow as tf\n",
        "from tensorflow import keras\n",
        "from tensorflow.keras import Model, layers, optimizers"
      ],
      "metadata": {
        "id": "37O6KU-rkGJq"
      },
      "execution_count": null,
      "outputs": []
    },
    {
      "cell_type": "code",
      "source": [
        "# seed값 고정\n",
        "np.random.seed(2021)\n",
        "random.seed(2021)\n",
        "tf.random.set_seed(2021)\n",
        "os.environ['PYTHONHASHSEED'] = '0'"
      ],
      "metadata": {
        "id": "6hkiXd-5ka6s"
      },
      "execution_count": null,
      "outputs": []
    },
    {
      "cell_type": "code",
      "source": [
        "data = pd.read_csv('/content/gdrive/MyDrive/big_data/time_series/data/bitstampUSD.csv')"
      ],
      "metadata": {
        "id": "EbS4tmESkleq"
      },
      "execution_count": null,
      "outputs": []
    },
    {
      "cell_type": "code",
      "source": [
        "data.head()"
      ],
      "metadata": {
        "colab": {
          "base_uri": "https://localhost:8080/",
          "height": 206
        },
        "id": "_tLC0ovek-uQ",
        "outputId": "45a123d1-ef7e-4f25-c2cb-fd72b7aff903"
      },
      "execution_count": null,
      "outputs": [
        {
          "output_type": "execute_result",
          "data": {
            "text/html": [
              "<div>\n",
              "<style scoped>\n",
              "    .dataframe tbody tr th:only-of-type {\n",
              "        vertical-align: middle;\n",
              "    }\n",
              "\n",
              "    .dataframe tbody tr th {\n",
              "        vertical-align: top;\n",
              "    }\n",
              "\n",
              "    .dataframe thead th {\n",
              "        text-align: right;\n",
              "    }\n",
              "</style>\n",
              "<table border=\"1\" class=\"dataframe\">\n",
              "  <thead>\n",
              "    <tr style=\"text-align: right;\">\n",
              "      <th></th>\n",
              "      <th>Timestamp</th>\n",
              "      <th>Open</th>\n",
              "      <th>High</th>\n",
              "      <th>Low</th>\n",
              "      <th>Close</th>\n",
              "      <th>Volume_(BTC)</th>\n",
              "      <th>Volume_(Currency)</th>\n",
              "      <th>Weighted_Price</th>\n",
              "    </tr>\n",
              "  </thead>\n",
              "  <tbody>\n",
              "    <tr>\n",
              "      <th>0</th>\n",
              "      <td>1325317920</td>\n",
              "      <td>4.39</td>\n",
              "      <td>4.39</td>\n",
              "      <td>4.39</td>\n",
              "      <td>4.39</td>\n",
              "      <td>0.455581</td>\n",
              "      <td>2.0</td>\n",
              "      <td>4.39</td>\n",
              "    </tr>\n",
              "    <tr>\n",
              "      <th>1</th>\n",
              "      <td>1325317980</td>\n",
              "      <td>NaN</td>\n",
              "      <td>NaN</td>\n",
              "      <td>NaN</td>\n",
              "      <td>NaN</td>\n",
              "      <td>NaN</td>\n",
              "      <td>NaN</td>\n",
              "      <td>NaN</td>\n",
              "    </tr>\n",
              "    <tr>\n",
              "      <th>2</th>\n",
              "      <td>1325318040</td>\n",
              "      <td>NaN</td>\n",
              "      <td>NaN</td>\n",
              "      <td>NaN</td>\n",
              "      <td>NaN</td>\n",
              "      <td>NaN</td>\n",
              "      <td>NaN</td>\n",
              "      <td>NaN</td>\n",
              "    </tr>\n",
              "    <tr>\n",
              "      <th>3</th>\n",
              "      <td>1325318100</td>\n",
              "      <td>NaN</td>\n",
              "      <td>NaN</td>\n",
              "      <td>NaN</td>\n",
              "      <td>NaN</td>\n",
              "      <td>NaN</td>\n",
              "      <td>NaN</td>\n",
              "      <td>NaN</td>\n",
              "    </tr>\n",
              "    <tr>\n",
              "      <th>4</th>\n",
              "      <td>1325318160</td>\n",
              "      <td>NaN</td>\n",
              "      <td>NaN</td>\n",
              "      <td>NaN</td>\n",
              "      <td>NaN</td>\n",
              "      <td>NaN</td>\n",
              "      <td>NaN</td>\n",
              "      <td>NaN</td>\n",
              "    </tr>\n",
              "  </tbody>\n",
              "</table>\n",
              "</div>"
            ],
            "text/plain": [
              "    Timestamp  Open  High  ...  Volume_(BTC)  Volume_(Currency)  Weighted_Price\n",
              "0  1325317920  4.39  4.39  ...      0.455581                2.0            4.39\n",
              "1  1325317980   NaN   NaN  ...           NaN                NaN             NaN\n",
              "2  1325318040   NaN   NaN  ...           NaN                NaN             NaN\n",
              "3  1325318100   NaN   NaN  ...           NaN                NaN             NaN\n",
              "4  1325318160   NaN   NaN  ...           NaN                NaN             NaN\n",
              "\n",
              "[5 rows x 8 columns]"
            ]
          },
          "metadata": {},
          "execution_count": 6
        }
      ]
    },
    {
      "cell_type": "markdown",
      "source": [
        "# 데이터 전처리"
      ],
      "metadata": {
        "id": "dK_MfxX-ksa5"
      }
    },
    {
      "cell_type": "code",
      "source": [
        "# Timestamp 날짜 변환\n",
        "# unit='s'  : 초 단위 계산\n",
        "# index 재설정\n",
        "data.index = pd.to_datetime(data['Timestamp'], unit='s')\n",
        "# 기존 Timestamp 제거\n",
        "data = data.drop(['Timestamp'], axis=1)\n",
        "data.head()"
      ],
      "metadata": {
        "colab": {
          "base_uri": "https://localhost:8080/",
          "height": 238
        },
        "id": "Lf2Pgtkikx8d",
        "outputId": "beeecc2e-8c64-4d7e-83f7-c68a78db5056"
      },
      "execution_count": null,
      "outputs": [
        {
          "output_type": "execute_result",
          "data": {
            "text/html": [
              "<div>\n",
              "<style scoped>\n",
              "    .dataframe tbody tr th:only-of-type {\n",
              "        vertical-align: middle;\n",
              "    }\n",
              "\n",
              "    .dataframe tbody tr th {\n",
              "        vertical-align: top;\n",
              "    }\n",
              "\n",
              "    .dataframe thead th {\n",
              "        text-align: right;\n",
              "    }\n",
              "</style>\n",
              "<table border=\"1\" class=\"dataframe\">\n",
              "  <thead>\n",
              "    <tr style=\"text-align: right;\">\n",
              "      <th></th>\n",
              "      <th>Open</th>\n",
              "      <th>High</th>\n",
              "      <th>Low</th>\n",
              "      <th>Close</th>\n",
              "      <th>Volume_(BTC)</th>\n",
              "      <th>Volume_(Currency)</th>\n",
              "      <th>Weighted_Price</th>\n",
              "    </tr>\n",
              "    <tr>\n",
              "      <th>Timestamp</th>\n",
              "      <th></th>\n",
              "      <th></th>\n",
              "      <th></th>\n",
              "      <th></th>\n",
              "      <th></th>\n",
              "      <th></th>\n",
              "      <th></th>\n",
              "    </tr>\n",
              "  </thead>\n",
              "  <tbody>\n",
              "    <tr>\n",
              "      <th>2011-12-31 07:52:00</th>\n",
              "      <td>4.39</td>\n",
              "      <td>4.39</td>\n",
              "      <td>4.39</td>\n",
              "      <td>4.39</td>\n",
              "      <td>0.455581</td>\n",
              "      <td>2.0</td>\n",
              "      <td>4.39</td>\n",
              "    </tr>\n",
              "    <tr>\n",
              "      <th>2011-12-31 07:53:00</th>\n",
              "      <td>NaN</td>\n",
              "      <td>NaN</td>\n",
              "      <td>NaN</td>\n",
              "      <td>NaN</td>\n",
              "      <td>NaN</td>\n",
              "      <td>NaN</td>\n",
              "      <td>NaN</td>\n",
              "    </tr>\n",
              "    <tr>\n",
              "      <th>2011-12-31 07:54:00</th>\n",
              "      <td>NaN</td>\n",
              "      <td>NaN</td>\n",
              "      <td>NaN</td>\n",
              "      <td>NaN</td>\n",
              "      <td>NaN</td>\n",
              "      <td>NaN</td>\n",
              "      <td>NaN</td>\n",
              "    </tr>\n",
              "    <tr>\n",
              "      <th>2011-12-31 07:55:00</th>\n",
              "      <td>NaN</td>\n",
              "      <td>NaN</td>\n",
              "      <td>NaN</td>\n",
              "      <td>NaN</td>\n",
              "      <td>NaN</td>\n",
              "      <td>NaN</td>\n",
              "      <td>NaN</td>\n",
              "    </tr>\n",
              "    <tr>\n",
              "      <th>2011-12-31 07:56:00</th>\n",
              "      <td>NaN</td>\n",
              "      <td>NaN</td>\n",
              "      <td>NaN</td>\n",
              "      <td>NaN</td>\n",
              "      <td>NaN</td>\n",
              "      <td>NaN</td>\n",
              "      <td>NaN</td>\n",
              "    </tr>\n",
              "  </tbody>\n",
              "</table>\n",
              "</div>"
            ],
            "text/plain": [
              "                     Open  High  ...  Volume_(Currency)  Weighted_Price\n",
              "Timestamp                        ...                                   \n",
              "2011-12-31 07:52:00  4.39  4.39  ...                2.0            4.39\n",
              "2011-12-31 07:53:00   NaN   NaN  ...                NaN             NaN\n",
              "2011-12-31 07:54:00   NaN   NaN  ...                NaN             NaN\n",
              "2011-12-31 07:55:00   NaN   NaN  ...                NaN             NaN\n",
              "2011-12-31 07:56:00   NaN   NaN  ...                NaN             NaN\n",
              "\n",
              "[5 rows x 7 columns]"
            ]
          },
          "metadata": {},
          "execution_count": 7
        }
      ]
    },
    {
      "cell_type": "code",
      "source": [
        "# Timestamp 일 단위로 변경\n",
        "data = data.resample('D').mean()\n",
        "data.head()"
      ],
      "metadata": {
        "colab": {
          "base_uri": "https://localhost:8080/",
          "height": 238
        },
        "id": "j7RuFI2QlGne",
        "outputId": "2d36b22f-2fb1-46cc-fd28-cb08fbbb26cb"
      },
      "execution_count": null,
      "outputs": [
        {
          "output_type": "execute_result",
          "data": {
            "text/html": [
              "<div>\n",
              "<style scoped>\n",
              "    .dataframe tbody tr th:only-of-type {\n",
              "        vertical-align: middle;\n",
              "    }\n",
              "\n",
              "    .dataframe tbody tr th {\n",
              "        vertical-align: top;\n",
              "    }\n",
              "\n",
              "    .dataframe thead th {\n",
              "        text-align: right;\n",
              "    }\n",
              "</style>\n",
              "<table border=\"1\" class=\"dataframe\">\n",
              "  <thead>\n",
              "    <tr style=\"text-align: right;\">\n",
              "      <th></th>\n",
              "      <th>Open</th>\n",
              "      <th>High</th>\n",
              "      <th>Low</th>\n",
              "      <th>Close</th>\n",
              "      <th>Volume_(BTC)</th>\n",
              "      <th>Volume_(Currency)</th>\n",
              "      <th>Weighted_Price</th>\n",
              "    </tr>\n",
              "    <tr>\n",
              "      <th>Timestamp</th>\n",
              "      <th></th>\n",
              "      <th></th>\n",
              "      <th></th>\n",
              "      <th></th>\n",
              "      <th></th>\n",
              "      <th></th>\n",
              "      <th></th>\n",
              "    </tr>\n",
              "  </thead>\n",
              "  <tbody>\n",
              "    <tr>\n",
              "      <th>2011-12-31</th>\n",
              "      <td>4.465000</td>\n",
              "      <td>4.482500</td>\n",
              "      <td>4.465000</td>\n",
              "      <td>4.482500</td>\n",
              "      <td>23.829470</td>\n",
              "      <td>106.330084</td>\n",
              "      <td>4.471603</td>\n",
              "    </tr>\n",
              "    <tr>\n",
              "      <th>2012-01-01</th>\n",
              "      <td>4.806667</td>\n",
              "      <td>4.806667</td>\n",
              "      <td>4.806667</td>\n",
              "      <td>4.806667</td>\n",
              "      <td>7.200667</td>\n",
              "      <td>35.259720</td>\n",
              "      <td>4.806667</td>\n",
              "    </tr>\n",
              "    <tr>\n",
              "      <th>2012-01-02</th>\n",
              "      <td>5.000000</td>\n",
              "      <td>5.000000</td>\n",
              "      <td>5.000000</td>\n",
              "      <td>5.000000</td>\n",
              "      <td>19.048000</td>\n",
              "      <td>95.240000</td>\n",
              "      <td>5.000000</td>\n",
              "    </tr>\n",
              "    <tr>\n",
              "      <th>2012-01-03</th>\n",
              "      <td>5.252500</td>\n",
              "      <td>5.252500</td>\n",
              "      <td>5.252500</td>\n",
              "      <td>5.252500</td>\n",
              "      <td>11.004660</td>\n",
              "      <td>58.100651</td>\n",
              "      <td>5.252500</td>\n",
              "    </tr>\n",
              "    <tr>\n",
              "      <th>2012-01-04</th>\n",
              "      <td>5.200000</td>\n",
              "      <td>5.223333</td>\n",
              "      <td>5.200000</td>\n",
              "      <td>5.223333</td>\n",
              "      <td>11.914807</td>\n",
              "      <td>63.119577</td>\n",
              "      <td>5.208159</td>\n",
              "    </tr>\n",
              "  </tbody>\n",
              "</table>\n",
              "</div>"
            ],
            "text/plain": [
              "                Open      High  ...  Volume_(Currency)  Weighted_Price\n",
              "Timestamp                       ...                                   \n",
              "2011-12-31  4.465000  4.482500  ...         106.330084        4.471603\n",
              "2012-01-01  4.806667  4.806667  ...          35.259720        4.806667\n",
              "2012-01-02  5.000000  5.000000  ...          95.240000        5.000000\n",
              "2012-01-03  5.252500  5.252500  ...          58.100651        5.252500\n",
              "2012-01-04  5.200000  5.223333  ...          63.119577        5.208159\n",
              "\n",
              "[5 rows x 7 columns]"
            ]
          },
          "metadata": {},
          "execution_count": 8
        }
      ]
    },
    {
      "cell_type": "code",
      "source": [
        "# 결측치 제거\n",
        "data = data.dropna()"
      ],
      "metadata": {
        "id": "gi_rM1qalLul"
      },
      "execution_count": null,
      "outputs": []
    },
    {
      "cell_type": "markdown",
      "source": [
        "## scaling"
      ],
      "metadata": {
        "id": "w6DLvcpWlXg6"
      }
    },
    {
      "cell_type": "code",
      "source": [
        "from sklearn.preprocessing import RobustScaler\n",
        "\n",
        "rob_scaler = RobustScaler()\n",
        "\n",
        "data['open'] = rob_scaler.fit_transform(data['Open'].values.reshape(-1,1))\n",
        "data['high'] = rob_scaler.fit_transform(data['High'].values.reshape(-1,1))\n",
        "data['low'] = rob_scaler.fit_transform(data['Low'].values.reshape(-1,1))\n",
        "data['close'] = rob_scaler.fit_transform(data['Close'].values.reshape(-1,1))\n",
        "data['volume_(BTC)'] = rob_scaler.fit_transform(data['Volume_(BTC)'].values.reshape(-1,1))\n",
        "data['volume_(Currency)'] = rob_scaler.fit_transform(data['Volume_(Currency)'].values.reshape(-1,1))\n",
        "data['weighted_Price'] = rob_scaler.fit_transform(data['Weighted_Price'].values.reshape(-1,1))"
      ],
      "metadata": {
        "id": "zGTTPngQlbEU"
      },
      "execution_count": null,
      "outputs": []
    },
    {
      "cell_type": "code",
      "source": [
        "data.drop(['Open','High','Low','Close','Volume_(BTC)','Volume_(Currency)','Weighted_Price'], axis=1, inplace=True)"
      ],
      "metadata": {
        "id": "6SOuaCyDl096"
      },
      "execution_count": null,
      "outputs": []
    },
    {
      "cell_type": "code",
      "source": [
        "data.head()"
      ],
      "metadata": {
        "colab": {
          "base_uri": "https://localhost:8080/",
          "height": 238
        },
        "id": "ifdKiqStl8lB",
        "outputId": "1dfc4f47-9302-401f-9d51-a5423bf9cff2"
      },
      "execution_count": null,
      "outputs": [
        {
          "output_type": "execute_result",
          "data": {
            "text/html": [
              "<div>\n",
              "<style scoped>\n",
              "    .dataframe tbody tr th:only-of-type {\n",
              "        vertical-align: middle;\n",
              "    }\n",
              "\n",
              "    .dataframe tbody tr th {\n",
              "        vertical-align: top;\n",
              "    }\n",
              "\n",
              "    .dataframe thead th {\n",
              "        text-align: right;\n",
              "    }\n",
              "</style>\n",
              "<table border=\"1\" class=\"dataframe\">\n",
              "  <thead>\n",
              "    <tr style=\"text-align: right;\">\n",
              "      <th></th>\n",
              "      <th>open</th>\n",
              "      <th>high</th>\n",
              "      <th>low</th>\n",
              "      <th>close</th>\n",
              "      <th>volume_(BTC)</th>\n",
              "      <th>volume_(Currency)</th>\n",
              "      <th>weighted_Price</th>\n",
              "    </tr>\n",
              "    <tr>\n",
              "      <th>Timestamp</th>\n",
              "      <th></th>\n",
              "      <th></th>\n",
              "      <th></th>\n",
              "      <th></th>\n",
              "      <th></th>\n",
              "      <th></th>\n",
              "      <th></th>\n",
              "    </tr>\n",
              "  </thead>\n",
              "  <tbody>\n",
              "    <tr>\n",
              "      <th>2011-12-31</th>\n",
              "      <td>-0.099101</td>\n",
              "      <td>-0.099060</td>\n",
              "      <td>-0.099124</td>\n",
              "      <td>-0.099099</td>\n",
              "      <td>1.919561</td>\n",
              "      <td>-0.196897</td>\n",
              "      <td>-0.099097</td>\n",
              "    </tr>\n",
              "    <tr>\n",
              "      <th>2012-01-01</th>\n",
              "      <td>-0.099053</td>\n",
              "      <td>-0.099014</td>\n",
              "      <td>-0.099075</td>\n",
              "      <td>-0.099052</td>\n",
              "      <td>-0.049931</td>\n",
              "      <td>-0.198978</td>\n",
              "      <td>-0.099049</td>\n",
              "    </tr>\n",
              "    <tr>\n",
              "      <th>2012-01-02</th>\n",
              "      <td>-0.099025</td>\n",
              "      <td>-0.098987</td>\n",
              "      <td>-0.099047</td>\n",
              "      <td>-0.099025</td>\n",
              "      <td>1.353250</td>\n",
              "      <td>-0.197222</td>\n",
              "      <td>-0.099022</td>\n",
              "    </tr>\n",
              "    <tr>\n",
              "      <th>2012-01-03</th>\n",
              "      <td>-0.098989</td>\n",
              "      <td>-0.098950</td>\n",
              "      <td>-0.099011</td>\n",
              "      <td>-0.098989</td>\n",
              "      <td>0.400609</td>\n",
              "      <td>-0.198309</td>\n",
              "      <td>-0.098986</td>\n",
              "    </tr>\n",
              "    <tr>\n",
              "      <th>2012-01-04</th>\n",
              "      <td>-0.098996</td>\n",
              "      <td>-0.098955</td>\n",
              "      <td>-0.099019</td>\n",
              "      <td>-0.098993</td>\n",
              "      <td>0.508405</td>\n",
              "      <td>-0.198162</td>\n",
              "      <td>-0.098992</td>\n",
              "    </tr>\n",
              "  </tbody>\n",
              "</table>\n",
              "</div>"
            ],
            "text/plain": [
              "                open      high  ...  volume_(Currency)  weighted_Price\n",
              "Timestamp                       ...                                   \n",
              "2011-12-31 -0.099101 -0.099060  ...          -0.196897       -0.099097\n",
              "2012-01-01 -0.099053 -0.099014  ...          -0.198978       -0.099049\n",
              "2012-01-02 -0.099025 -0.098987  ...          -0.197222       -0.099022\n",
              "2012-01-03 -0.098989 -0.098950  ...          -0.198309       -0.098986\n",
              "2012-01-04 -0.098996 -0.098955  ...          -0.198162       -0.098992\n",
              "\n",
              "[5 rows x 7 columns]"
            ]
          },
          "metadata": {},
          "execution_count": 12
        }
      ]
    },
    {
      "cell_type": "markdown",
      "source": [
        "## train, test 데이터 나누기\n",
        "\n"
      ],
      "metadata": {
        "id": "uxcFPG91mCLv"
      }
    },
    {
      "cell_type": "code",
      "source": [
        "train = data.iloc[:-120]\n",
        "test = data.iloc[-120:]"
      ],
      "metadata": {
        "id": "JY1KMmFrmEb6"
      },
      "execution_count": null,
      "outputs": []
    },
    {
      "cell_type": "markdown",
      "source": [
        "## sampling"
      ],
      "metadata": {
        "id": "izApP51bmRNS"
      }
    },
    {
      "cell_type": "code",
      "source": [
        "train = train.sample(frac=1)\n",
        "test = test.sample(frac=1)"
      ],
      "metadata": {
        "id": "wGtZs9KqmL6T"
      },
      "execution_count": null,
      "outputs": []
    },
    {
      "cell_type": "code",
      "source": [
        "X_train = train.drop(['weighted_Price'], axis=1)\n",
        "y_train = train['weighted_Price']\n",
        "\n",
        "X_test = test.drop(['weighted_Price'], axis=1)\n",
        "y_test = test['weighted_Price']"
      ],
      "metadata": {
        "id": "VLA04o3fmQZE"
      },
      "execution_count": null,
      "outputs": []
    },
    {
      "cell_type": "code",
      "source": [
        "X_train.head()"
      ],
      "metadata": {
        "colab": {
          "base_uri": "https://localhost:8080/",
          "height": 238
        },
        "id": "-U5jH00Jm2P9",
        "outputId": "26cb4c06-c2ed-44a5-a1b3-ad81949a2dcf"
      },
      "execution_count": null,
      "outputs": [
        {
          "output_type": "execute_result",
          "data": {
            "text/html": [
              "<div>\n",
              "<style scoped>\n",
              "    .dataframe tbody tr th:only-of-type {\n",
              "        vertical-align: middle;\n",
              "    }\n",
              "\n",
              "    .dataframe tbody tr th {\n",
              "        vertical-align: top;\n",
              "    }\n",
              "\n",
              "    .dataframe thead th {\n",
              "        text-align: right;\n",
              "    }\n",
              "</style>\n",
              "<table border=\"1\" class=\"dataframe\">\n",
              "  <thead>\n",
              "    <tr style=\"text-align: right;\">\n",
              "      <th></th>\n",
              "      <th>open</th>\n",
              "      <th>high</th>\n",
              "      <th>low</th>\n",
              "      <th>close</th>\n",
              "      <th>volume_(BTC)</th>\n",
              "      <th>volume_(Currency)</th>\n",
              "    </tr>\n",
              "    <tr>\n",
              "      <th>Timestamp</th>\n",
              "      <th></th>\n",
              "      <th></th>\n",
              "      <th></th>\n",
              "      <th></th>\n",
              "      <th></th>\n",
              "      <th></th>\n",
              "    </tr>\n",
              "  </thead>\n",
              "  <tbody>\n",
              "    <tr>\n",
              "      <th>2015-08-15</th>\n",
              "      <td>-0.061890</td>\n",
              "      <td>-0.061876</td>\n",
              "      <td>-0.061894</td>\n",
              "      <td>-0.061890</td>\n",
              "      <td>0.016200</td>\n",
              "      <td>-0.139943</td>\n",
              "    </tr>\n",
              "    <tr>\n",
              "      <th>2012-08-19</th>\n",
              "      <td>-0.098415</td>\n",
              "      <td>-0.098377</td>\n",
              "      <td>-0.098439</td>\n",
              "      <td>-0.098416</td>\n",
              "      <td>2.263715</td>\n",
              "      <td>-0.192983</td>\n",
              "    </tr>\n",
              "    <tr>\n",
              "      <th>2020-04-14</th>\n",
              "      <td>0.884085</td>\n",
              "      <td>0.883818</td>\n",
              "      <td>0.884211</td>\n",
              "      <td>0.884126</td>\n",
              "      <td>-0.292051</td>\n",
              "      <td>0.838624</td>\n",
              "    </tr>\n",
              "    <tr>\n",
              "      <th>2016-12-08</th>\n",
              "      <td>0.009961</td>\n",
              "      <td>0.009936</td>\n",
              "      <td>0.009990</td>\n",
              "      <td>0.009969</td>\n",
              "      <td>-0.336284</td>\n",
              "      <td>-0.092450</td>\n",
              "    </tr>\n",
              "    <tr>\n",
              "      <th>2013-01-22</th>\n",
              "      <td>-0.097292</td>\n",
              "      <td>-0.097254</td>\n",
              "      <td>-0.097314</td>\n",
              "      <td>-0.097292</td>\n",
              "      <td>1.352725</td>\n",
              "      <td>-0.190410</td>\n",
              "    </tr>\n",
              "  </tbody>\n",
              "</table>\n",
              "</div>"
            ],
            "text/plain": [
              "                open      high  ...  volume_(BTC)  volume_(Currency)\n",
              "Timestamp                       ...                                 \n",
              "2015-08-15 -0.061890 -0.061876  ...      0.016200          -0.139943\n",
              "2012-08-19 -0.098415 -0.098377  ...      2.263715          -0.192983\n",
              "2020-04-14  0.884085  0.883818  ...     -0.292051           0.838624\n",
              "2016-12-08  0.009961  0.009936  ...     -0.336284          -0.092450\n",
              "2013-01-22 -0.097292 -0.097254  ...      1.352725          -0.190410\n",
              "\n",
              "[5 rows x 6 columns]"
            ]
          },
          "metadata": {},
          "execution_count": 16
        }
      ]
    },
    {
      "cell_type": "markdown",
      "source": [
        "## DataFrame -> tensor 변환"
      ],
      "metadata": {
        "id": "9JDy10H5ml_X"
      }
    },
    {
      "cell_type": "code",
      "source": [
        "X_train = X_train.values\n",
        "y_train = y_train.values\n",
        "\n",
        "X_test = X_test.values\n",
        "y_test = y_test.values"
      ],
      "metadata": {
        "id": "2DNycszRm0ed"
      },
      "execution_count": null,
      "outputs": []
    },
    {
      "cell_type": "markdown",
      "source": [
        "# 모델"
      ],
      "metadata": {
        "id": "wR1DJFOKnjWN"
      }
    },
    {
      "cell_type": "code",
      "source": [
        "# [sample, timestep, features]\n",
        "\n",
        "X_train = X_train.reshape(X_train.shape[0], 1, X_train.shape[1])\n",
        "X_test = X_test.reshape(X_test.shape[0], 1, X_test.shape[1])\n",
        "\n",
        "# 모델 설정\n",
        "model_lstm = keras.Sequential()\n",
        "model_lstm.add(layers.LSTM(units=10, activation='relu'))\n",
        "model_lstm.add(layers.BatchNormalization())\n",
        "model_lstm.add(layers.Dense(1))"
      ],
      "metadata": {
        "id": "NhbByF-9m8CI"
      },
      "execution_count": null,
      "outputs": []
    },
    {
      "cell_type": "markdown",
      "source": [
        "#학습"
      ],
      "metadata": {
        "id": "xOUQh1tFnnyj"
      }
    },
    {
      "cell_type": "code",
      "source": [
        "# 학습 방법 설정\n",
        "model_lstm.compile(loss='mse', optimizer=optimizers.Adam(learning_rate=0.001))"
      ],
      "metadata": {
        "id": "sNTT3qaunekt"
      },
      "execution_count": null,
      "outputs": []
    },
    {
      "cell_type": "code",
      "source": [
        "# 학습\n",
        "model_lstm.fit(X_train, y_train, validation_split=0.2, batch_size=32, epochs=10, shuffle=True, verbose=2)"
      ],
      "metadata": {
        "colab": {
          "base_uri": "https://localhost:8080/"
        },
        "id": "Ui9xrClgn3Bp",
        "outputId": "18ea6fdb-4728-4b16-e8c4-b20e860a1608"
      },
      "execution_count": null,
      "outputs": [
        {
          "output_type": "stream",
          "name": "stdout",
          "text": [
            "Epoch 1/10\n",
            "82/82 - 3s - loss: 0.2388 - val_loss: 0.2399 - 3s/epoch - 38ms/step\n",
            "Epoch 2/10\n",
            "82/82 - 0s - loss: 0.0493 - val_loss: 0.2040 - 196ms/epoch - 2ms/step\n",
            "Epoch 3/10\n",
            "82/82 - 0s - loss: 0.0246 - val_loss: 0.1612 - 225ms/epoch - 3ms/step\n",
            "Epoch 4/10\n",
            "82/82 - 0s - loss: 0.0202 - val_loss: 0.1159 - 245ms/epoch - 3ms/step\n",
            "Epoch 5/10\n",
            "82/82 - 0s - loss: 0.0196 - val_loss: 0.0735 - 243ms/epoch - 3ms/step\n",
            "Epoch 6/10\n",
            "82/82 - 0s - loss: 0.0164 - val_loss: 0.0436 - 233ms/epoch - 3ms/step\n",
            "Epoch 7/10\n",
            "82/82 - 0s - loss: 0.0168 - val_loss: 0.0228 - 227ms/epoch - 3ms/step\n",
            "Epoch 8/10\n",
            "82/82 - 0s - loss: 0.0145 - val_loss: 0.0203 - 208ms/epoch - 3ms/step\n",
            "Epoch 9/10\n",
            "82/82 - 0s - loss: 0.0168 - val_loss: 0.0045 - 192ms/epoch - 2ms/step\n",
            "Epoch 10/10\n",
            "82/82 - 0s - loss: 0.0157 - val_loss: 0.0113 - 236ms/epoch - 3ms/step\n"
          ]
        },
        {
          "output_type": "execute_result",
          "data": {
            "text/plain": [
              "<keras.callbacks.History at 0x7f72233dccd0>"
            ]
          },
          "metadata": {},
          "execution_count": 20
        }
      ]
    },
    {
      "cell_type": "markdown",
      "source": [
        "# 예측"
      ],
      "metadata": {
        "id": "tKdQVZcaoABG"
      }
    },
    {
      "cell_type": "code",
      "source": [
        "y_pred = model_lstm.predict(X_test)"
      ],
      "metadata": {
        "id": "MvQVEelHoej2"
      },
      "execution_count": null,
      "outputs": []
    },
    {
      "cell_type": "markdown",
      "source": [
        "# 평가"
      ],
      "metadata": {
        "id": "xaeRPMyKoiCf"
      }
    },
    {
      "cell_type": "code",
      "source": [
        "from sklearn.metrics import mean_squared_error"
      ],
      "metadata": {
        "id": "8DNadGMiolAB"
      },
      "execution_count": null,
      "outputs": []
    },
    {
      "cell_type": "code",
      "source": [
        "np.sqrt(mean_squared_error(y_test, y_pred))"
      ],
      "metadata": {
        "colab": {
          "base_uri": "https://localhost:8080/"
        },
        "id": "wiHvZp8HomKI",
        "outputId": "a402d8d7-ef63-4430-8bde-e5770e876e17"
      },
      "execution_count": null,
      "outputs": [
        {
          "output_type": "execute_result",
          "data": {
            "text/plain": [
              "4.188858426764705"
            ]
          },
          "metadata": {},
          "execution_count": 23
        }
      ]
    },
    {
      "cell_type": "markdown",
      "source": [
        "# 결론"
      ],
      "metadata": {
        "id": "nOpdf8xPpApb"
      }
    },
    {
      "cell_type": "markdown",
      "source": [
        "- 무조건 딥러닝이 좋다거나, 무조건 머신러닝이 좋다고 생각하는 것보다 여러 모델을 비교하고, 논문을 자주 찾아보는 게 좋은 자세이다."
      ],
      "metadata": {
        "id": "lfxrtJyvoznF"
      }
    }
  ]
}